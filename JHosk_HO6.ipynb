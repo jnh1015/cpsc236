{
 "cells": [
  {
   "cell_type": "markdown",
   "metadata": {},
   "source": [
    "# Dictionaries\n",
    "\n",
    "To submit this assignment in D2l, post the link to your notebook file on your GitHub account."
   ]
  },
  {
   "cell_type": "markdown",
   "metadata": {},
   "source": [
    "## 12.1 Champion Counter\n",
    "Create a program that reads a text file that contains a list of FIFA World Cup champions and determines the country that has won the most championships.\n",
    "\n",
    "### Console:\n",
    "```powershell\n",
    "Country\t        Wins\tYears\t\n",
    "=======\t        ====\t=====\t\n",
    "Argentina       2       1978, 1986\n",
    "Brazil\t        5       1958, 1962, 1970, 1994, 2002\n",
    "England\t        1       1966\t\t\n",
    "France\t        1       1998\t\t\n",
    "Germany\t        4       1954, 1974, 1990, 2014\n",
    "Italy\t        4       1934, 1938, 1982, 2006\n",
    "Spain\t        1       2010\n",
    "Uruguay\t        2       1930, 1950\n",
    "```\n",
    "\n",
    "### Specifications:\n",
    "- Use the attached text file named `world_cup_champions.txt` that contains data like this: \n",
    "```powershell\n",
    "Year,Country,Coach,Captain \n",
    "1930,Uruguay,Alberto Suppici,José Nasazzi \n",
    "1934,Italy,Vittorio Pozzo,Gianpiero Combi \n",
    "1938,Italy,Vittorio Pozzo,Giuseppe Meazza\n",
    "...\n",
    "```\n",
    "- When the program starts, it should read the text file and use a dictionary to store the required data using the name of each country that has won the World Cup as the key.\n",
    "- The program should compile the data shown above and display the countries alphabetically.\n",
    "\n"
   ]
  },
  {
   "cell_type": "code",
   "execution_count": 15,
   "metadata": {
    "scrolled": true
   },
   "outputs": [
    {
     "name": "stdout",
     "output_type": "stream",
     "text": [
      "Country         Number of Wins  Winning Years\n",
      "--------------------------------------------------\n",
      "Argentina       2               1978, 1986\n",
      "Brazil          5               1958, 1962, 1970, 1994, 2002\n",
      "England         1               1966\n",
      "France          1               1998\n",
      "Germany         4               1954, 1974, 1990, 2014\n",
      "Italy           4               1934, 1938, 1982, 2006\n",
      "Spain           1               2010\n",
      "Uruguay         2               1930, 1950\n"
     ]
    }
   ],
   "source": [
    "### CODE HERE ###\n",
    "def read():\n",
    "    world_cup_dict = {}\n",
    "    with open(\"world_cup_champions.txt\", \"r\") as infile:\n",
    "        next(infile)\n",
    "        for line in infile:\n",
    "            parts = line.strip().split(',')\n",
    "            country = parts[1]\n",
    "            year = int(parts[0])\n",
    "            if country in world_cup_dict:\n",
    "                world_cup_dict[country].append(year)\n",
    "            else:\n",
    "                world_cup_dict[country] = [year]\n",
    "    return world_cup_dict\n",
    "\n",
    "def main():\n",
    "    world_cup_dict = read() #creates a dictionary from file and returns it \n",
    "    sorted_countries = sorted(world_cup_dict.keys()) #sorts dictionary alphabetically\n",
    "    print(f\"{'Country':<15} {'Number of Wins':<15} {'Winning Years'}\")#formats the doc and next line is a bar for clarity\n",
    "    print(\"-\" * 50)\n",
    "\n",
    "    for country in sorted_countries:\n",
    "        years = sorted(world_cup_dict[country])\n",
    "        num_wins = len(years) \n",
    "        years_str = ', '.join(map(str, years))\n",
    "\n",
    "        print(f\"{country:<15} {num_wins:<15} {years_str}\")#prints country, num of wins and the number of winning years\n",
    "\n",
    "if __name__ == \"__main__\":\n",
    "    main()"
   ]
  },
  {
   "cell_type": "markdown",
   "metadata": {},
   "source": [
    "## 12.2 Monthly Sales\n",
    "Create a program that allows you to view and edit the sales amounts for each month of the current year.\n",
    "\n",
    "### Console:\n",
    "```powershell\n",
    "Monthly Sales program\n",
    "\n",
    "COMMAND MENU\n",
    "view\t- View sales for specified month \n",
    "edit\t- Edit sales for specified month \n",
    "totals - View sales summary for year \n",
    "exit\t- Exit program\n",
    "\n",
    "Command: view\n",
    "Three-letter Month: jan\n",
    "Sales amount for Jan is 14,317.00.\n",
    "\n",
    "Command: edit\n",
    "Three-letter Month: jan \n",
    "Sales Amount: 15293\n",
    "Sales amount for Jan is 15,293.00.\n",
    "\n",
    "Command: totals\n",
    "Yearly total: 67,855.00\n",
    "Monthly average: 5,654.58\n",
    "\n",
    "Command: view\n",
    "Three-letter Month: july \n",
    "Invalid three-letter month.\n",
    "\n",
    "Command: exit Bye!\n",
    "```\n",
    "\n",
    "### Specifications:\n",
    "- Use the attached text file named `monthly_sales.txt` that consists of rows that contain three-letter abbreviations for the month and the monthly sales.\n",
    "- The program should read the file and store the sales data for each month in a dictionary with the month abbreviation as the key for each item.\n",
    "- Whenever the sales data is edited, the program should write the changed data to the text file.\n",
    "\n",
    "\n"
   ]
  },
  {
   "cell_type": "code",
   "execution_count": 14,
   "metadata": {},
   "outputs": [
    {
     "name": "stdout",
     "output_type": "stream",
     "text": [
      "COMMAND MENU\n",
      "\n",
      "view\t- View sales for specified month\n",
      "edit\t- Edit sales for specified month\n",
      "totals - View sales summary for year \n",
      "exit\t- Exit program\n",
      "\n"
     ]
    },
    {
     "name": "stdin",
     "output_type": "stream",
     "text": [
      "Command:  totals\n"
     ]
    },
    {
     "name": "stdout",
     "output_type": "stream",
     "text": [
      "64032\n"
     ]
    },
    {
     "name": "stdin",
     "output_type": "stream",
     "text": [
      "Command:  exit\n"
     ]
    },
    {
     "name": "stdout",
     "output_type": "stream",
     "text": [
      "Goodbye\n"
     ]
    }
   ],
   "source": [
    "# CODE HERE \n",
    "def cmdmenu():\n",
    "    print(\"COMMAND MENU\")\n",
    "    print()\n",
    "    print(\"view\t- View sales for specified month\")\n",
    "    print(\"edit\t- Edit sales for specified month\")\n",
    "    print(\"totals - View sales summary for year \")\n",
    "    print(\"exit\t- Exit program\")\n",
    "    print(\"\")\n",
    "def readsales():\n",
    "    sales_data = {}\n",
    "    with open(\"monthly_sales.txt\", \"r\") as file:\n",
    "        for line in file:\n",
    "            month, sales = line.strip().split('\\t')\n",
    "            sales_data[month] = int(sales)\n",
    "    return sales_data\n",
    "def main():\n",
    "    cmdmenu()\n",
    "    ans=''\n",
    "    while ans!='exit':\n",
    "        ans=input(\"Command: \")\n",
    "        if ans=='view':\n",
    "            month = input(\"Three-Letter-Month: \")\n",
    "            sales_data = readsales()\n",
    "            if month in sales_data:\n",
    "                print(f\"Sales for {month}: {sales_data[month]}\")\n",
    "            else:\n",
    "                print(\"Not a valid month\")\n",
    "        elif ans=='edit':\n",
    "            salesdata = readsales()\n",
    "            month = input(\"Three-Letter-Month: \")\n",
    "            if month in salesdata:\n",
    "                new_sales = int(input(\"Enter new sales: \"))\n",
    "                salesdata[month] = new_sales\n",
    "        \n",
    "                with open(\"monthly_sales.txt\", \"w\") as file:\n",
    "                    for month, sales in salesdata.items():\n",
    "                        file.write(f\"{month}\\t{sales}\\n\")\n",
    "            else:\n",
    "                print(\"Invalid month abbreviation.\")\n",
    "        elif ans=='totals':\n",
    "            salesdata=readsales()\n",
    "            totalsale=sum(salesdata.values())\n",
    "            print(\"Yearly Total:\",totalsale)\n",
    "            print(\"Yearly Total:\",totalsale)\n",
    "            \n",
    "        elif ans=='exit':\n",
    "            print(\"Goodbye\")\n",
    "        else:\n",
    "            print(\"Not a valid command, try again!\")\n",
    "    \n",
    "if __name__ == \"__main__\":\n",
    "    main()"
   ]
  },
  {
   "cell_type": "code",
   "execution_count": null,
   "metadata": {},
   "outputs": [],
   "source": []
  }
 ],
 "metadata": {
  "kernelspec": {
   "display_name": "Python [conda env:base] *",
   "language": "python",
   "name": "conda-base-py"
  },
  "language_info": {
   "codemirror_mode": {
    "name": "ipython",
    "version": 3
   },
   "file_extension": ".py",
   "mimetype": "text/x-python",
   "name": "python",
   "nbconvert_exporter": "python",
   "pygments_lexer": "ipython3",
   "version": "3.12.7"
  }
 },
 "nbformat": 4,
 "nbformat_minor": 4
}
