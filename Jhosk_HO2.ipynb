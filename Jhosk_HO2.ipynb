{
 "cells": [
  {
   "cell_type": "code",
   "execution_count": 3,
   "id": "b86567e0-cceb-4239-90ef-1b8a41b2d2e3",
   "metadata": {},
   "outputs": [],
   "source": [
    "#Handson 2: Joel Hoskins "
   ]
  },
  {
   "cell_type": "code",
   "execution_count": 13,
   "id": "8b4460de-7379-4d31-a49f-c8d34857192c",
   "metadata": {},
   "outputs": [
    {
     "name": "stdin",
     "output_type": "stream",
     "text": [
      "Enter the grade value 89\n"
     ]
    },
    {
     "name": "stdout",
     "output_type": "stream",
     "text": [
      "Letter Grade: A\n"
     ]
    },
    {
     "name": "stdin",
     "output_type": "stream",
     "text": [
      "Continue? Y/N y\n",
      "Enter the grade value 63\n"
     ]
    },
    {
     "name": "stdout",
     "output_type": "stream",
     "text": [
      "Letter Grade: D\n"
     ]
    },
    {
     "name": "stdin",
     "output_type": "stream",
     "text": [
      "Continue? Y/N 82\n"
     ]
    }
   ],
   "source": [
    "cont='y'\n",
    "grade=0\n",
    "while cont=='y' or cont=='Y':\n",
    "    grade=int(input(\"Enter the grade value\"))\n",
    "    if grade>=88:\n",
    "        print(\"Letter Grade: A\")\n",
    "    elif grade>=80:\n",
    "        print(\"Letter Grade: B\")\n",
    "    elif grade>=67:\n",
    "        print(\"Letter Grade: C\")\n",
    "    elif grade>=60:\n",
    "        print(\"Letter Grade: D\")\n",
    "    else:\n",
    "        print(\"Letter Grade: F\")\n",
    "    cont=input(\"Continue? Y/N\")"
   ]
  },
  {
   "cell_type": "code",
   "execution_count": 29,
   "id": "acd3fcec-a2c0-41fb-ba65-f1843332d76a",
   "metadata": {},
   "outputs": [
    {
     "name": "stdout",
     "output_type": "stream",
     "text": [
      "Tip Calculator\n",
      "\n"
     ]
    },
    {
     "name": "stdin",
     "output_type": "stream",
     "text": [
      "Enter the price of your meal: 10.432\n"
     ]
    },
    {
     "name": "stdout",
     "output_type": "stream",
     "text": [
      "\n",
      "15%\n",
      "Tip Amount: 1.56\n",
      "Total Amount: 12.0\n",
      "\n",
      "20%\n",
      "Tip Amount: 2.09\n",
      "Total Amount: 12.52\n",
      "\n",
      "25%\n",
      "Tip Amount: 2.61\n",
      "Total Amount: 13.04\n"
     ]
    }
   ],
   "source": [
    "price=0.0\n",
    "print(\"Tip Calculator\\n\")\n",
    "price=float(input(\"Enter the price of your meal:\"))\n",
    "print(\"\\n15%\")\n",
    "print(\"Tip Amount:\",round((price*.15),2))\n",
    "print(\"Total Amount:\",round((price+(price*.15)),2))\n",
    "print(\"\\n20%\")\n",
    "print(\"Tip Amount:\",round((price*.20),2))\n",
    "print(\"Total Amount:\",round((price+(price*.20)),2))\n",
    "print(\"\\n25%\")\n",
    "print(\"Tip Amount:\",round((price*.25),2))\n",
    "print(\"Total Amount:\",round((price+(price*.25)),2))"
   ]
  },
  {
   "cell_type": "code",
   "execution_count": 35,
   "id": "70df8622-1b55-418f-9378-a91ec275ea38",
   "metadata": {},
   "outputs": [
    {
     "name": "stdout",
     "output_type": "stream",
     "text": [
      "Change Calculator\n",
      "\n"
     ]
    },
    {
     "name": "stdin",
     "output_type": "stream",
     "text": [
      "Enter Number of Cents(0-99): 41\n"
     ]
    },
    {
     "name": "stdout",
     "output_type": "stream",
     "text": [
      "Quarters: 1\n",
      "Dimes: 1\n",
      "Nickels: 1\n",
      "Pennies: 1\n"
     ]
    },
    {
     "name": "stdin",
     "output_type": "stream",
     "text": [
      "Continue? Y/N y\n",
      "Enter Number of Cents(0-99): 21\n"
     ]
    },
    {
     "name": "stdout",
     "output_type": "stream",
     "text": [
      "Quarters: 0\n",
      "Dimes: 2\n",
      "Nickels: 0\n",
      "Pennies: 1\n"
     ]
    },
    {
     "name": "stdin",
     "output_type": "stream",
     "text": [
      "Continue? Y/N n\n"
     ]
    }
   ],
   "source": [
    "#### cont='y'\n",
    "cents=0\n",
    "print(\"Change Calculator\\n\")\n",
    "while cont=='y' or cont=='Y':\n",
    "    cents=int(input(\"Enter Number of Cents(0-99):\"))\n",
    "    if (cents/25)>=1:\n",
    "        print(\"Quarters:\",cents//25)\n",
    "        cents=cents%25\n",
    "    else:\n",
    "        print(\"Quarters: 0\")\n",
    "    if (cents/10)>=1:\n",
    "        print(\"Dimes:\",cents//10)\n",
    "        cents=cents%10\n",
    "    else:\n",
    "        print(\"Dimes: 0\")\n",
    "    if (cents/5)>=1:\n",
    "        print(\"Nickels:\",cents//5)\n",
    "        cents=cents%5\n",
    "    else:\n",
    "        print(\"Nickels: 0\")\n",
    "    if (cents/1)>=1:\n",
    "        print(\"Pennies:\",cents)\n",
    "    else:\n",
    "        print(\"Pennies: 0\")\n",
    "    cont=input(\"Continue? Y/N\")"
   ]
  },
  {
   "cell_type": "code",
   "execution_count": 1,
   "id": "67c0215c-8218-4e88-8075-aa9a8a5c9c49",
   "metadata": {},
   "outputs": [
    {
     "name": "stdout",
     "output_type": "stream",
     "text": [
      "Table of Powers\n",
      "\n"
     ]
    },
    {
     "name": "stdin",
     "output_type": "stream",
     "text": [
      "Start Number: 3\n",
      "End Number: 7\n"
     ]
    },
    {
     "name": "stdout",
     "output_type": "stream",
     "text": [
      "Number Squared Cubed\n",
      "======\t=======\t=======\n",
      "3 \t 9 \t 27\n",
      "4 \t 16 \t 64\n",
      "5 \t 25 \t 125\n",
      "6 \t 36 \t 216\n",
      "7 \t 49 \t 343\n"
     ]
    }
   ],
   "source": [
    "first=0\n",
    "last=0\n",
    "print(\"Table of Powers\\n\")\n",
    "first=int(input(\"Start Number:\"))\n",
    "last=int(input(\"End Number:\"))\n",
    "print(\"Number\",\"Squared\",\"Cubed\")\n",
    "print(\"======\\t=======\\t=======\")\n",
    "for x in range(first, last+1, 1):\n",
    "    print(x,\"\\t\", (x**2),\"\\t\",(x**3))\n",
    "        "
   ]
  },
  {
   "cell_type": "code",
   "execution_count": null,
   "id": "5d04456d-9c2a-4282-92e0-6cd85a67585c",
   "metadata": {},
   "outputs": [],
   "source": []
  }
 ],
 "metadata": {
  "kernelspec": {
   "display_name": "Python [conda env:base] *",
   "language": "python",
   "name": "conda-base-py"
  },
  "language_info": {
   "codemirror_mode": {
    "name": "ipython",
    "version": 3
   },
   "file_extension": ".py",
   "mimetype": "text/x-python",
   "name": "python",
   "nbconvert_exporter": "python",
   "pygments_lexer": "ipython3",
   "version": "3.12.7"
  }
 },
 "nbformat": 4,
 "nbformat_minor": 5
}
