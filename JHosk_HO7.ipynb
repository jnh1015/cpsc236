{
 "cells": [
  {
   "cell_type": "markdown",
   "metadata": {},
   "source": [
    "# Exceptions\n",
    "\n",
    "To submit this assignment in D2l, post the link to your notebook file on your GitHub account."
   ]
  },
  {
   "cell_type": "markdown",
   "metadata": {},
   "source": [
    "## 8.1 Tip Calculator\n",
    "Add exception handling to a Tip Calculator program.\n",
    "\n",
    "### Console:\n",
    "```powershell\n",
    "Tip Calculator\n",
    "\n",
    "INPUT\n",
    "Cost of meal: ten\n",
    "Must be valid decimal number. Please try again. \n",
    "Cost of meal: -10\n",
    "Must be greater than 0. Please try again. \n",
    "Cost of meal: 52.31\n",
    "Tip percent:\t17.5\n",
    "Must be valid integer. Please try again. \n",
    "Tip percent:\t20\n",
    "\n",
    "OUTPUT\n",
    "Cost of meal:   52.31 \n",
    "Tip percent:    20%\n",
    "Tip amount:     10.46\n",
    "Total amount:   62.77\n",
    "```\n",
    "\n",
    "### Specifications:\n",
    "- The program should accept **decimal** entries like 52.31 and 15.5 for the cost of the meal.\n",
    "- The program should accept **integer** entries like 15, 20, 25 for the tip percent.\n",
    "- The program should validate both user entries. That way, the user can’t crash the program by entering invalid data.\n",
    "- The program should only accept numbers that are **greater than 0**.\n",
    "- The program should round results to a maximum of two decimal places.\n"
   ]
  },
  {
   "cell_type": "code",
   "execution_count": 23,
   "metadata": {},
   "outputs": [
    {
     "name": "stdout",
     "output_type": "stream",
     "text": [
      "Tip Calculator\n",
      "\n"
     ]
    },
    {
     "name": "stdin",
     "output_type": "stream",
     "text": [
      "Enter the price of your meal: ten\n"
     ]
    },
    {
     "name": "stdout",
     "output_type": "stream",
     "text": [
      "Must be a valid decimal number, try again\n"
     ]
    },
    {
     "name": "stdin",
     "output_type": "stream",
     "text": [
      "Enter the price of your meal: -4\n"
     ]
    },
    {
     "name": "stdout",
     "output_type": "stream",
     "text": [
      "Must be greater than 0, try again\n"
     ]
    },
    {
     "name": "stdin",
     "output_type": "stream",
     "text": [
      "Enter the price of your meal: 12.50\n",
      "Tip Percent: fourteen\n"
     ]
    },
    {
     "name": "stdout",
     "output_type": "stream",
     "text": [
      "Must be a valid integer number, try again\n"
     ]
    },
    {
     "name": "stdin",
     "output_type": "stream",
     "text": [
      "Tip Percent: -9\n"
     ]
    },
    {
     "name": "stdout",
     "output_type": "stream",
     "text": [
      "Must be greater than 0, try again\n"
     ]
    },
    {
     "name": "stdin",
     "output_type": "stream",
     "text": [
      "Tip Percent: 15\n"
     ]
    },
    {
     "name": "stdout",
     "output_type": "stream",
     "text": [
      "Tip Amount: 1.88\n",
      "Total Amount: 14.38\n"
     ]
    }
   ],
   "source": [
    "# CODE HERE ###\n",
    "def main():\n",
    "    price=0\n",
    "    tip=0\n",
    "    print(\"Tip Calculator\\n\")\n",
    "    err=1\n",
    "    while(price<=0 or err==1):\n",
    "        try:\n",
    "            price=float(input(\"Enter the price of your meal:\"))\n",
    "            err=0\n",
    "        except ValueError:\n",
    "            print(\"Must be a valid decimal number, try again\")\n",
    "            err=1\n",
    "        if price<0:\n",
    "            print(\"Must be greater than 0, try again\")\n",
    "    err=1\n",
    "    while(tip<=0 or err==1):\n",
    "        try:\n",
    "            tip=int(input(\"Tip Percent:\"))\n",
    "            err=0\n",
    "        except ValueError:\n",
    "            print(\"Must be a valid integer number, try again\")\n",
    "            err=1\n",
    "        if tip<0:\n",
    "            print(\"Must be greater than 0, try again\")\n",
    "    print(\"Tip Amount:\",round((price*tip/100),2))\n",
    "    print(\"Total Amount:$\",round((price+(price*tip/100)),2))\n",
    "if __name__ == \"__main__\":\n",
    "    main()"
   ]
  },
  {
   "cell_type": "markdown",
   "metadata": {},
   "source": [
    "## 8.2 Wizard Inventory\n",
    "\n",
    "Add exception handling to a program that keeps track of the inventory of items that a wizard can carry. If you still have Wizard Inventory from Handson_5, you can add the exception handling to that program. Otherwise, you can start this program from scratch.\n",
    "\n",
    "### Console if the program can't find the **inventory** file:\n",
    "```powershell\n",
    "The Wizard Inventory program\n",
    "\n",
    "COMMAND MENU\n",
    "walk - Walk down the path \n",
    "show - Show all items \n",
    "drop - Drop an item\n",
    "exit - Exit program\n",
    "\n",
    "Could not find inventory file!\n",
    "Wizard is starting with no inventory.\n",
    "\n",
    "Command: walk\n",
    "While walking down a path, you see a crossbow.\n",
    "Do you want to grab it? (y/n): y\n",
    "You picked up a crossbow.\n",
    "\n",
    "Command: show\n",
    "1. a crossbow\n",
    "\n",
    "Command: drop Number: x\n",
    "Invalid item number.\n",
    "```\n",
    "\n",
    "### The error message if the program can’t find the **items** file:\n",
    "```powershell\n",
    "Could not find items file.\t\n",
    "Exiting program. Bye!\t\n",
    "```\n",
    "\n",
    "### Specifications:\n",
    "- This program should read the text file named `wizard_all_items.txt` that contains all the items a wizard can carry.\n",
    "- When the user selects the walk command, the program should randomly pick one of the items that were read from the text file and give the user the option to grab it.\n",
    "- The current items that the wizard is carrying should be saved in an inventory file. Make sure to update this file every time the user grabs or drops an item.\n",
    "- The wizard can only carry four items at a time. For the drop command, display an error message if the user enters an invalid integer or an integer that doesn’t correspond with an item.\n",
    "- Handle all exceptions that might occur so that the user can’t cause the program to crash. If the all items file is missing, display an appropriate error message and exit the program.\n",
    "- If the inventory file is missing, display an appropriate error message and continue with an empty inventory for the user. That way, the program will write a new inventory file when the user adds items to the inventory."
   ]
  },
  {
   "cell_type": "code",
   "execution_count": null,
   "metadata": {},
   "outputs": [
    {
     "name": "stdout",
     "output_type": "stream",
     "text": [
      "The wizard inventory program\n",
      "COMMAND MENU\n",
      "walk - Walk down the path\n",
      "show - Show all items\n",
      "drop - Drop an item:\n",
      "exit - Exit program\n",
      "\n"
     ]
    },
    {
     "name": "stdin",
     "output_type": "stream",
     "text": [
      "Command:  walk\n"
     ]
    },
    {
     "name": "stdout",
     "output_type": "stream",
     "text": [
      "\n"
     ]
    },
    {
     "name": "stdin",
     "output_type": "stream",
     "text": [
      "You come across a scroll of invisibility do you take it? y/n k\n"
     ]
    },
    {
     "name": "stdout",
     "output_type": "stream",
     "text": [
      "Not a valid command, try again.\n"
     ]
    },
    {
     "name": "stdin",
     "output_type": "stream",
     "text": [
      "You come across a scroll of invisibility do you take it? y/n n\n"
     ]
    },
    {
     "name": "stdout",
     "output_type": "stream",
     "text": [
      "\n"
     ]
    },
    {
     "name": "stdin",
     "output_type": "stream",
     "text": [
      "Command:  drop\n"
     ]
    },
    {
     "name": "stdout",
     "output_type": "stream",
     "text": [
      "\n"
     ]
    },
    {
     "name": "stdin",
     "output_type": "stream",
     "text": [
      "Dropped Number: 9\n"
     ]
    },
    {
     "name": "stdout",
     "output_type": "stream",
     "text": [
      "Invalid inventory number. Returning to command list\n",
      "\n"
     ]
    },
    {
     "name": "stdin",
     "output_type": "stream",
     "text": [
      "Command:  drop\n"
     ]
    },
    {
     "name": "stdout",
     "output_type": "stream",
     "text": [
      "\n"
     ]
    },
    {
     "name": "stdin",
     "output_type": "stream",
     "text": [
      "Dropped Number: 2\n"
     ]
    },
    {
     "name": "stdout",
     "output_type": "stream",
     "text": [
      "You dropped a wizard's cloak\n",
      "\n"
     ]
    },
    {
     "name": "stdin",
     "output_type": "stream",
     "text": [
      "Command:  walk\n"
     ]
    },
    {
     "name": "stdout",
     "output_type": "stream",
     "text": [
      "\n"
     ]
    },
    {
     "name": "stdin",
     "output_type": "stream",
     "text": [
      "You come across a cloak of invisibility do you take it? y/n y\n"
     ]
    },
    {
     "name": "stdout",
     "output_type": "stream",
     "text": [
      "You take the item and add it to your inventory.\n",
      "\n"
     ]
    },
    {
     "name": "stdin",
     "output_type": "stream",
     "text": [
      "Command:  show\n"
     ]
    },
    {
     "name": "stdout",
     "output_type": "stream",
     "text": [
      "\n",
      "Your inventory:\n",
      "a scroll of uncursing\n",
      "a scroll of invisibility\n",
      "a scroll of uncursing\n",
      "a cloak of invisibility\n",
      "\n"
     ]
    }
   ],
   "source": [
    "### CODE HERE ###\n",
    "### CODE HERE ###\n",
    "import random\n",
    "def setup():\n",
    "    print(\"COMMAND MENU\")\n",
    "    print(\"walk - Walk down the path\")\n",
    "    print(\"show - Show all items\")\n",
    "    print(\"drop - Drop an item:\")\n",
    "    print(\"exit - Exit program\")\n",
    "def walk():\n",
    "    arr=[]\n",
    "    try:\n",
    "        with open(\"wizard_all_items.txt\", \"r\") as infile:\n",
    "            arr=(infile.readlines())\n",
    "    except FileNotFoundError:\n",
    "        print(\"Could not find the items file.\")\n",
    "        print(\"Exiting program. Bye\")\n",
    "        sys.exit()\n",
    "    ran = random.choice(arr)\n",
    "    ran=ran.strip()\n",
    "    val=0\n",
    "    while val==0:\n",
    "        x=input(\"You come across \"+ran+\" do you take it? y/n\")\n",
    "        if x=='y':\n",
    "            val=1\n",
    "        elif x=='n':\n",
    "            val=1\n",
    "        else:\n",
    "            print(\"Not a valid command, try again.\")\n",
    "            val=0\n",
    "            \n",
    "    if x=='y':\n",
    "        with open(\"wizard_inventory.txt\", \"r\") as infile:\n",
    "            inv=infile.readlines()\n",
    "            if len(inv) > 3: \n",
    "                print(\"Your inventory is full!\")\n",
    "                return\n",
    "            else:\n",
    "                print(\"You take the item and add it to your inventory.\")\n",
    "                with open(\"wizard_inventory.txt\", \"a\") as outfile:\n",
    "                    outfile.write(ran + \"\\n\")\n",
    "\n",
    "def show():\n",
    "    \n",
    "    with open(\"wizard_inventory.txt\", \"r\") as infile:\n",
    "        inv = infile.readlines() \n",
    "        if not inv:\n",
    "            print(\"Your inventory is empty.\")\n",
    "        else:\n",
    "            print(\"Your inventory:\")\n",
    "            for item in inv:\n",
    "                print(item.strip()) \n",
    "def drop():\n",
    "    with open(\"wizard_inventory.txt\", \"r\") as infile:\n",
    "        inv = infile.readlines() \n",
    "    try:\n",
    "        num=int(input(\"Dropped Number:\"))\n",
    "        dropped = inv[num - 1].strip() \n",
    "        print(f\"You dropped \"+dropped)\n",
    "        inv.pop(num - 1)\n",
    "        with open(\"wizard_inventory.txt\", \"w\") as outfile:\n",
    "            for item in inv:\n",
    "                outfile.write(item)\n",
    "    except IndexError:\n",
    "        print(\"Invalid inventory number. Returning to command list\")\n",
    "    \n",
    "def command():\n",
    "    print(\"\")\n",
    "    x=input(\"Command: \")\n",
    "    print(\"\")\n",
    "    if x=='walk':\n",
    "        walk()\n",
    "    elif x==\"show\":\n",
    "        show()\n",
    "    elif x=='drop':\n",
    "        drop()\n",
    "    elif x=='exit':\n",
    "        return -1\n",
    "    else:\n",
    "        \n",
    "        print(\"Not a valid command, try again\")\n",
    "def checkfile():#chekcs to see if wizard_inventory.txt exists, if not, throws error, makes new file, and continues program\n",
    "    try:\n",
    "        with open(\"wizard_inventory.txt\", \"r\") as infile:\n",
    "            inv = infile.readlines() \n",
    "    except FileNotFoundError:\n",
    "        f = open(\"wizard_inventory.txt\", \"w\")\n",
    "        f.close()\n",
    "        print(\"Could not find inventory file\")\n",
    "        print(\"Starting with no inventory\")\n",
    "def main():\n",
    "    print(\"The wizard inventory program\")\n",
    "    setup()\n",
    "    checkfile()\n",
    "    cont=0\n",
    "    while cont !=-1:\n",
    "        cont=command()\n",
    "    print(\"Bye!\")\n",
    "if __name__ == \"__main__\":\n",
    "    main()"
   ]
  },
  {
   "cell_type": "code",
   "execution_count": null,
   "metadata": {},
   "outputs": [],
   "source": []
  }
 ],
 "metadata": {
  "kernelspec": {
   "display_name": "Python [conda env:base] *",
   "language": "python",
   "name": "conda-base-py"
  },
  "language_info": {
   "codemirror_mode": {
    "name": "ipython",
    "version": 3
   },
   "file_extension": ".py",
   "mimetype": "text/x-python",
   "name": "python",
   "nbconvert_exporter": "python",
   "pygments_lexer": "ipython3",
   "version": "3.12.7"
  }
 },
 "nbformat": 4,
 "nbformat_minor": 4
}
