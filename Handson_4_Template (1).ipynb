{
 "cells": [
  {
   "cell_type": "markdown",
   "metadata": {},
   "source": [
    "# List and Tuples\n",
    "\n",
    "To submit this assignment in D2l, post the link to your notebook file on your GitHub account."
   ]
  },
  {
   "cell_type": "markdown",
   "metadata": {},
   "source": [
    "## 6.1 Prime Number Checker\n",
    "Create a program that checks whether a number is a prime number and displays its factors if it is not a prime number.\n",
    "\n",
    "### Console:\n",
    "```powershell\n",
    "Prime Number Checker\n",
    "\n",
    "Please enter an integer between 1 and 5000: 5\n",
    "5 is a prime number.\n",
    "\n",
    "Try again? (y/n): y\n",
    "\n",
    "Please enter an integer between 1 and 5000: 6\n",
    "6 is NOT a prime number.\n",
    "It has 4 factors: 1 2 3 6\n",
    "\n",
    "Try again? (y/n): y\n",
    "\n",
    "Please enter an integer between 1 and 5000: 200\n",
    "200 is NOT a prime number.\n",
    "It has 12 factors: 1 2 4 5 8 10 20 25 40 50 100 200\n",
    "\n",
    "Try again? (y/n): n\n",
    "\n",
    "Bye!\n",
    "```\n",
    "\n",
    "### Specifications:\n",
    "- A prime number is divisible by two factors (1 and itself). For example, 7 is a prime number because it is only divisible by 1 and 7.\n",
    "- If the user enters an integer that's not between 1 and 5000, the program should display an error message.\n",
    "- If the number is a prime number, the program should display a message.\n",
    "If the number is not a prime number, the program should display a message. Then, it should display the number of factors for the number and a list of those factors.\n",
    "- Store the factors for each number in a list.\n",
    "- Use functions to organize the code for this program.\n"
   ]
  },
  {
   "cell_type": "code",
   "execution_count": 1,
   "metadata": {},
   "outputs": [
    {
     "name": "stdout",
     "output_type": "stream",
     "text": [
      "Prime Number Checker\n",
      "\n"
     ]
    },
    {
     "name": "stdin",
     "output_type": "stream",
     "text": [
      "Please Enter an integer between 1 and 5000: 6\n"
     ]
    },
    {
     "name": "stdout",
     "output_type": "stream",
     "text": [
      "It has 4 factors:\n",
      "[1, 2, 3, 6]\n",
      "6 is not a prime number.\n",
      "\n"
     ]
    },
    {
     "name": "stdin",
     "output_type": "stream",
     "text": [
      "Try again? y/n y\n"
     ]
    },
    {
     "name": "stdout",
     "output_type": "stream",
     "text": [
      "\n"
     ]
    },
    {
     "name": "stdin",
     "output_type": "stream",
     "text": [
      "Please Enter an integer between 1 and 5000: 340\n"
     ]
    },
    {
     "name": "stdout",
     "output_type": "stream",
     "text": [
      "It has 12 factors:\n",
      "[1, 2, 4, 5, 10, 17, 20, 34, 68, 85, 170, 340]\n",
      "340 is not a prime number.\n",
      "\n"
     ]
    },
    {
     "name": "stdin",
     "output_type": "stream",
     "text": [
      "Try again? y/n n\n"
     ]
    },
    {
     "name": "stdout",
     "output_type": "stream",
     "text": [
      "\n",
      "Thanks, bye\n"
     ]
    }
   ],
   "source": [
    "### CODE HERE ###\n",
    "def getNum():\n",
    "    vin=True\n",
    "    while vin==True:\n",
    "        num=int(input(\"Please Enter an integer between 1 and 5000:\"))\n",
    "        if num>=1 and num<=5000:\n",
    "            break\n",
    "        else:\n",
    "            print(\"Not within the range, try again.\")\n",
    "    isPrime(num)\n",
    "    return\n",
    "def getFac(num):\n",
    "    fctrs=[]\n",
    "    x=2\n",
    "    fctrs.append(1)\n",
    "    for i in range(2, num//2+1):\n",
    "            if (num % i) == 0:\n",
    "                fctrs.append(i)\n",
    "                x=x+1\n",
    "    fctrs.append(num)\n",
    "    print(\"It has\",x,\"factors:\")\n",
    "    print(fctrs)\n",
    "    \n",
    "def isPrime(num):\n",
    " \n",
    "    test = False\n",
    "\n",
    "    if num == 0 or num == 1:\n",
    "        print(num, \"is not a prime number.\")\n",
    "    elif num > 1:\n",
    "        for i in range(2, num):\n",
    "            if (num % i) == 0:\n",
    "                test = True\n",
    "                getFac(num)\n",
    "                break\n",
    "    outP(num,test)\n",
    "    return\n",
    "def outP(ans,test):\n",
    "    if test:\n",
    "        print(ans, \"is not a prime number.\")\n",
    "    else:\n",
    "        print(ans, \"is a prime number.\")\n",
    "    return\n",
    "def main():\n",
    "    rep='y'\n",
    "    print(\"Prime Number Checker\")\n",
    "    print(\"\")\n",
    "    while rep!='n':\n",
    "        getNum()\n",
    "        print(\"\")\n",
    "        rep=input(\"Try again? y/n\")\n",
    "        print(\"\")\n",
    "    print(\"Thanks, bye\")\n",
    "    \n",
    "if __name__ == \"__main__\":\n",
    "    main()\n",
    "    "
   ]
  },
  {
   "cell_type": "markdown",
   "metadata": {},
   "source": [
    "## 6.2 - Contact Manager\n",
    "Create a program that a user can use to manage the primary email address and phone number for a contact.\n",
    "\n",
    "### Console\n",
    "```powershell\n",
    "Contact Manager\n",
    "\n",
    "COMMAND MENU\n",
    "list - Display all contacts\n",
    "view - View a contact\n",
    "add - Add a contact\n",
    "del - Delete a contact\n",
    "exit - Exit program\n",
    "\n",
    "Command: list\n",
    "1. Guido van Rossum\n",
    "2. Eric Idle\n",
    "\n",
    "Command: view\n",
    "Number: 2\n",
    "Name: Eric Idle\n",
    "Email: eric@ericidle.com\n",
    "Phone: +44 20 7946 0958\n",
    "\n",
    "Command: add\n",
    "Name: Mike Murach\n",
    "Email: mike@murach.com\n",
    "Phone: 559-123-4567\n",
    "Mike Murach was added.\n",
    "\n",
    "Command: del\n",
    "Number: 1\n",
    "Guido van Rossum was deleted.\n",
    "\n",
    "Command: list\n",
    "1. Eric Idle\n",
    "2. Mike Murach\n",
    "\n",
    "Command: exit\n",
    "Bye!\n",
    "```\n",
    "\n",
    "### Specifications:\n",
    "- Use a list of lists to store the data for the contacts. Provide starting data for two or more contacts.\n",
    "- For the `view` and `del` commands, display an error message if the user enters and invalid contact number.\n",
    "- When you exit the program, all changes that you made to the contact list are lost.\n",
    "\n",
    "\n"
   ]
  },
  {
   "cell_type": "code",
   "execution_count": 68,
   "metadata": {},
   "outputs": [
    {
     "name": "stdout",
     "output_type": "stream",
     "text": [
      "Contact Manager\n",
      "\n",
      "COMMAND MENU\n",
      "list - Display all contacts\n",
      "view - View a contact\n",
      "add - Add a contact\n",
      "del - Delete a contact\n",
      "exit - Exit the program\n",
      "\n"
     ]
    },
    {
     "name": "stdin",
     "output_type": "stream",
     "text": [
      "Command add\n"
     ]
    },
    {
     "name": "stdout",
     "output_type": "stream",
     "text": [
      "Number: 1\n"
     ]
    },
    {
     "name": "stdin",
     "output_type": "stream",
     "text": [
      "Name:  Mark Grayson\n",
      "Email:  flipper65@gmail.com\n",
      "Phone:  2345678\n"
     ]
    },
    {
     "name": "stdout",
     "output_type": "stream",
     "text": [
      "Mark Grayson was added\n",
      "\n"
     ]
    },
    {
     "name": "stdin",
     "output_type": "stream",
     "text": [
      "Command add\n"
     ]
    },
    {
     "name": "stdout",
     "output_type": "stream",
     "text": [
      "Number: 2\n"
     ]
    },
    {
     "name": "stdin",
     "output_type": "stream",
     "text": [
      "Name:  Franklin \n",
      "Email:  gtafan44@gmail.com\n",
      "Phone:  12345678\n"
     ]
    },
    {
     "name": "stdout",
     "output_type": "stream",
     "text": [
      "Franklin  was added\n",
      "\n"
     ]
    },
    {
     "name": "stdin",
     "output_type": "stream",
     "text": [
      "Command list\n"
     ]
    },
    {
     "name": "stdout",
     "output_type": "stream",
     "text": [
      "Contact #1: Mark Grayson\n",
      "Contact #2: Franklin \n",
      "\n",
      "\n"
     ]
    },
    {
     "name": "stdin",
     "output_type": "stream",
     "text": [
      "Command view\n",
      "Contact Number: 2\n"
     ]
    },
    {
     "name": "stdout",
     "output_type": "stream",
     "text": [
      "Number: 2\n",
      "Name: Franklin \n",
      "Email: gtafan44@gmail.com\n",
      "Phone: 12345678\n",
      "\n",
      "\n"
     ]
    },
    {
     "name": "stdin",
     "output_type": "stream",
     "text": [
      "Command delete\n",
      "Contact Number: 1\n"
     ]
    },
    {
     "name": "stdout",
     "output_type": "stream",
     "text": [
      "Mark Grayson was deleted\n",
      "\n"
     ]
    },
    {
     "name": "stdin",
     "output_type": "stream",
     "text": [
      "Command view\n",
      "Contact Number: 1\n"
     ]
    },
    {
     "name": "stdout",
     "output_type": "stream",
     "text": [
      "Number: 2\n",
      "Name: Franklin \n",
      "Email: gtafan44@gmail.com\n",
      "Phone: 12345678\n",
      "\n",
      "\n"
     ]
    },
    {
     "name": "stdin",
     "output_type": "stream",
     "text": [
      "Command exit\n"
     ]
    },
    {
     "name": "stdout",
     "output_type": "stream",
     "text": [
      "Bye!\n"
     ]
    }
   ],
   "source": [
    "# CODE HERE ###\n",
    "def setup():\n",
    "    print(\"Contact Manager\")\n",
    "    print(\"\")\n",
    "    print(\"COMMAND MENU\")\n",
    "    print(\"list - Display all contacts\")\n",
    "    print(\"view - View a contact\")\n",
    "    print(\"add - Add a contact\")\n",
    "    print(\"del - Delete a contact\")\n",
    "    print(\"exit - Exit the program\")\n",
    "\n",
    "def view(contact,count):\n",
    "    if 1 <= count and count <= len(contact):\n",
    "        con = contact[count - 1]\n",
    "        print(\"Number:\", con[0])\n",
    "        print(\"Name:\", con[1])\n",
    "        print(\"Email:\", con[2])\n",
    "        print(\"Phone:\", con[3])\n",
    "        print(\"\")\n",
    "    else:\n",
    "        print(\"Invalid contact number.\")\n",
    "def list(contact,count):\n",
    "    if len(contact) == 0:\n",
    "        print(\"There are no contacts available right now.\")\n",
    "    else:\n",
    "        for i, con in enumerate(contact, start=1):\n",
    "            print(f\"Contact #{i}: {con[1]}\")\n",
    "        print(\"\")\n",
    "def delete(contact,count):\n",
    "    if 1 <= count and count <= len(contact):\n",
    "        con = contact[count - 1]\n",
    "        print(con[1],\"was deleted\")\n",
    "        contact.pop(count-1)\n",
    "        x=-1\n",
    "        return(x)\n",
    "    else:\n",
    "        print(\"Invalid contact number.\")\n",
    "        y=0\n",
    "        return y\n",
    "\n",
    "def add(contact,count):\n",
    "    con=[]\n",
    "    print(\"Number:\",count)\n",
    "    con.append(count)\n",
    "    x=input(\"Name: \")\n",
    "    con.append(x)\n",
    "    x=input(\"Email: \")\n",
    "    con.append(x)\n",
    "    x=input(\"Phone: \")\n",
    "    con.append(x)\n",
    "    contact.append(con)\n",
    "    print(con[1],\"was added\")\n",
    "def main():\n",
    "    count=1\n",
    "    ans=1\n",
    "    setup()\n",
    "    contact=[]\n",
    "    while(ans!='exit'):\n",
    "        print(\"\")\n",
    "        ans=input(\"Command\")\n",
    "        if(ans=='add'):\n",
    "            add(contact,count)\n",
    "            count=count+1\n",
    "        if(ans=='view'):\n",
    "            p=int(input(\"Contact Number:\"))\n",
    "            view(contact,p)\n",
    "        if(ans=='delete'):\n",
    "            p=int(input(\"Contact Number:\"))\n",
    "            y=delete(contact,p)\n",
    "            count=count+y\n",
    "        if (ans=='list'):\n",
    "            list(contact,count)\n",
    "    print(\"Bye!\")\n",
    "if __name__ == \"__main__\":\n",
    "    main()\n"
   ]
  },
  {
   "cell_type": "code",
   "execution_count": null,
   "metadata": {},
   "outputs": [],
   "source": []
  }
 ],
 "metadata": {
  "kernelspec": {
   "display_name": "Python [conda env:base] *",
   "language": "python",
   "name": "conda-base-py"
  },
  "language_info": {
   "codemirror_mode": {
    "name": "ipython",
    "version": 3
   },
   "file_extension": ".py",
   "mimetype": "text/x-python",
   "name": "python",
   "nbconvert_exporter": "python",
   "pygments_lexer": "ipython3",
   "version": "3.12.7"
  }
 },
 "nbformat": 4,
 "nbformat_minor": 4
}
