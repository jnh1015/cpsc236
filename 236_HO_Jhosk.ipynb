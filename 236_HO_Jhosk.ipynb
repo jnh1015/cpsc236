{
 "cells": [
  {
   "cell_type": "code",
   "execution_count": 33,
   "id": "6b893422-702d-4c44-9f9f-636a0893b094",
   "metadata": {},
   "outputs": [
    {
     "name": "stdout",
     "output_type": "stream",
     "text": [
      "Registration form\n",
      "\n",
      "\n"
     ]
    },
    {
     "name": "stdin",
     "output_type": "stream",
     "text": [
      "First Name: Mark\n",
      "Last Name: Andrews\n",
      "Birth Year: 1990\n"
     ]
    },
    {
     "name": "stdout",
     "output_type": "stream",
     "text": [
      "\n",
      "Welcome Mark Andrews!\n",
      " Your registration is complete!\n",
      " Your temporary password is: Mark*1990\n"
     ]
    }
   ],
   "source": [
    "print(\"Registration form\" \"\\n\\n\"  )\n",
    "name=input(\"First Name:\")\n",
    "lName=input(\"Last Name:\")\n",
    "year=input(\"Birth Year:\")\n",
    "print(\"\\nWelcome \" + name +\" \"+lName+ \"!\\nYour registration is complete!\\nYour temporary password is: \"+name+\"*\"+year)"
   ]
  },
  {
   "cell_type": "code",
   "execution_count": 11,
   "id": "0a1b5250-509f-458c-a0eb-fa27bc432ab2",
   "metadata": {},
   "outputs": [
    {
     "name": "stdout",
     "output_type": "stream",
     "text": [
      "Pay Check Calculator\n",
      "\n"
     ]
    },
    {
     "name": "stdin",
     "output_type": "stream",
     "text": [
      "Hours Worked:  19.5\n",
      "Hourly Rate:  10\n"
     ]
    },
    {
     "name": "stdout",
     "output_type": "stream",
     "text": [
      "\n",
      "Gross pay: 195.0\n",
      "Tax Rate: 18.0%\n",
      "Tax Amount: 35.1\n",
      "Take Home Pay: 159.9\n"
     ]
    }
   ],
   "source": [
    "print(\"Pay Check Calculator\\n\")\n",
    "hours=float(input(\"Hours Worked: \"))\n",
    "rate=float(input(\"Hourly Rate: \"))\n",
    "taxrate=.18\n",
    "grosspay=hours*rate\n",
    "print(\"\\nGross pay:\",(grosspay))\n",
    "print(\"Tax Rate:\",str((taxrate*100))+\"%\")\n",
    "print(\"Tax Amount:\",(taxrate*grosspay))\n",
    "print(\"Take Home Pay:\",(grosspay-(taxrate*grosspay)))"
   ]
  },
  {
   "cell_type": "code",
   "execution_count": null,
   "id": "6efdc016-737c-4842-b8eb-60a54eb5d8d7",
   "metadata": {},
   "outputs": [],
   "source": []
  }
 ],
 "metadata": {
  "kernelspec": {
   "display_name": "Python [conda env:base] *",
   "language": "python",
   "name": "conda-base-py"
  },
  "language_info": {
   "codemirror_mode": {
    "name": "ipython",
    "version": 3
   },
   "file_extension": ".py",
   "mimetype": "text/x-python",
   "name": "python",
   "nbconvert_exporter": "python",
   "pygments_lexer": "ipython3",
   "version": "3.12.7"
  }
 },
 "nbformat": 4,
 "nbformat_minor": 5
}
