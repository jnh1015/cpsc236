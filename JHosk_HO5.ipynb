{
 "cells": [
  {
   "cell_type": "markdown",
   "metadata": {},
   "source": [
    "# File Input\n",
    "\n",
    "To submit this assignment in D2l, post the link to your notebook file on your GitHub account."
   ]
  },
  {
   "cell_type": "markdown",
   "metadata": {},
   "source": [
    "## 7.1 Pig Dice Rules\n",
    "Create a program that reads a list of rules from a file and displays them.\n",
    "\n",
    "### Console:\n",
    "```powershell\n",
    "Pig Dice Rules:\n",
    "*\tSee how many turns it takes you to get to 20.\n",
    "*\tTurn ends when player rolls a 1 or chooses to hold.\n",
    "*\tIf you roll a 1, you lose all points earned during the turn.\n",
    "*\tIf you hold, you save all points earned during the turn.\n",
    "```\n",
    "\n",
    "### Specifications:\n",
    "- Use the attached text file named `pig_dice_rules.txt` in the corresponding Directory.\n",
    "- Your program should read the text file and display it on the console.\n"
   ]
  },
  {
   "cell_type": "code",
   "execution_count": null,
   "metadata": {},
   "outputs": [
    {
     "name": "stdout",
     "output_type": "stream",
     "text": [
      "Pig Dice Rules:\n",
      "* See how many turns it takes you to get to 20.\n",
      "* Turn ends when player rolls a 1 or chooses to hold.\n",
      "* If you roll a 1, you lose all points earned during the turn.\n",
      "* If you hold, you save all points earned during the turn.\n"
     ]
    }
   ],
   "source": [
    "### CODE HERE ###\n",
    "import random\n",
    "def dice():\n",
    "    return random.randint(1, 6)\n",
    "def game(tot):\n",
    "    x=0\n",
    "    temp=0\n",
    "    while x<20:\n",
    "        x=dice()\n",
    "        \n",
    "        print (\"You rolled a\",x)\n",
    "        tot=tot+x\n",
    "        temp=temp+x\n",
    "        print(\"Your total is\",tot)\n",
    "        if x==1:\n",
    "            print(\"Bad luck!\")\n",
    "            print(\"Your points from this turn have been lost\")\n",
    "            temp=0\n",
    "            return temp\n",
    "        elif tot>=20:\n",
    "            return tot\n",
    "            \n",
    "        else:\n",
    "            val=input(\"Would you like to hold or continue rolling? Press 0 to hold and keep points!\")\n",
    "            print(\"\")\n",
    "            if val=='0':\n",
    "                return temp\n",
    "def main():\n",
    "    with open(\"pig_dice_rules.txt\", \"r\") as infile:\n",
    "        print(infile.read())\n",
    "    print\n",
    "    x=0\n",
    "    tot=0\n",
    "    turn=0\n",
    "    while(tot<20):\n",
    "        input(\"press any button to roll dice!\")\n",
    "        \n",
    "        tot+=game(tot)\n",
    "        turn+=1\n",
    "    print(\"Congratulations, you won!\")\n",
    "    print(\"It took you\",turn,\"turns\")\n",
    "\n",
    "if __name__ == \"__main__\":\n",
    "    main()"
   ]
  },
  {
   "cell_type": "markdown",
   "metadata": {},
   "source": [
    "## 7.2 Wizard Inventory\n",
    "Create a program that keeps track of the items that a wizard can carry.\n",
    "\n",
    "### Console:\n",
    "```powershell\n",
    "The Wizard Inventroy Program\n",
    "\n",
    "COMMAND MENU\n",
    "walk - Walk down the path \n",
    "show - Show all items \n",
    "drop - Drop an item\n",
    "exit - Exit program\n",
    "\n",
    "Command: walk\n",
    "While walking down a path, you see a scroll of uncursing. \n",
    "Do you want to grab it? (y/n): y\n",
    "You picked up a scroll of uncursing.\n",
    "\n",
    "Command: walk\n",
    "While walking down a path, you see an unknown potion. \n",
    "Do you want to grab it? (y/n): y\n",
    "You can't carry any more items. Drop something first.\n",
    "\n",
    "Command: show\n",
    "1.\ta wooden staff\n",
    "2.\ta scroll of invisibility\n",
    "3.\ta crossbow\n",
    "4.\ta scroll of uncursing\n",
    "\n",
    "Command: drop Number: 3\n",
    "You dropped a crossbow.\n",
    "\n",
    "Command: exit \n",
    "Bye!\n",
    "```\n",
    "\n",
    "### Specifications:\n",
    "- Use the attached text file named `wizard_all_items.txt` that contains a list of all the items that a wizard can carry. (in the corresponding directory)\n",
    "- When the user selects the walk command, the program should read the items from the file, randomly pick one, and give the user the option to grab it.\n",
    "- Your program should create another file that stores the items that the wizard is carrying (`wizard_inventory.txt`). Make sure to update this file every time the user grabs or drops an item.\n",
    "- The wizard can only carry **four** items at a time.\n",
    "- For the drop command, display an error message if the user enters an invalid number for the item.\n",
    "\n"
   ]
  },
  {
   "cell_type": "code",
   "execution_count": 94,
   "metadata": {},
   "outputs": [
    {
     "name": "stdout",
     "output_type": "stream",
     "text": [
      "The wizard inventory program\n",
      "\n"
     ]
    },
    {
     "name": "stdin",
     "output_type": "stream",
     "text": [
      "Command:  walk\n"
     ]
    },
    {
     "name": "stdout",
     "output_type": "stream",
     "text": [
      "\n"
     ]
    },
    {
     "name": "stdin",
     "output_type": "stream",
     "text": [
      "You come across some elven bread do you take it? y/n y\n"
     ]
    },
    {
     "name": "stdout",
     "output_type": "stream",
     "text": [
      "Your inventory is full!\n",
      "\n"
     ]
    },
    {
     "name": "stdin",
     "output_type": "stream",
     "text": [
      "Command:  show\n"
     ]
    },
    {
     "name": "stdout",
     "output_type": "stream",
     "text": [
      "\n",
      "Your inventory:\n",
      "a scroll of uncursing\n",
      "a wizard hat\n",
      "a crossbow\n",
      "a crossbow\n",
      "\n"
     ]
    },
    {
     "name": "stdin",
     "output_type": "stream",
     "text": [
      "Command:  drop\n"
     ]
    },
    {
     "name": "stdout",
     "output_type": "stream",
     "text": [
      "\n"
     ]
    },
    {
     "name": "stdin",
     "output_type": "stream",
     "text": [
      "Dropped Number: 2\n"
     ]
    },
    {
     "name": "stdout",
     "output_type": "stream",
     "text": [
      "You dropped a wizard hat\n",
      "\n"
     ]
    },
    {
     "name": "stdin",
     "output_type": "stream",
     "text": [
      "Command:  walk\n"
     ]
    },
    {
     "name": "stdout",
     "output_type": "stream",
     "text": [
      "\n"
     ]
    },
    {
     "name": "stdin",
     "output_type": "stream",
     "text": [
      "You come across a wizard hat do you take it? y/n y\n"
     ]
    },
    {
     "name": "stdout",
     "output_type": "stream",
     "text": [
      "You take the item and add it to your inventory.\n",
      "\n"
     ]
    },
    {
     "name": "stdin",
     "output_type": "stream",
     "text": [
      "Command:  show\n"
     ]
    },
    {
     "name": "stdout",
     "output_type": "stream",
     "text": [
      "\n",
      "Your inventory:\n",
      "a scroll of uncursing\n",
      "a crossbow\n",
      "a crossbow\n",
      "a wizard hat\n",
      "\n"
     ]
    },
    {
     "name": "stdin",
     "output_type": "stream",
     "text": [
      "Command:  exit\n"
     ]
    },
    {
     "name": "stdout",
     "output_type": "stream",
     "text": [
      "\n",
      "Bye!\n"
     ]
    }
   ],
   "source": [
    "### CODE HERE ###\n",
    "import random\n",
    "def setup():\n",
    "    print(\"COMMAND MENU\")\n",
    "    print(\"walk - Walk down the path\")\n",
    "    print(\"show - Show all items\")\n",
    "    print(\"drop - Drop an item:\")\n",
    "    print(\"exit - Exit program\")\n",
    "def walk():\n",
    "    arr=[]\n",
    "    with open(\"wizard_all_items.txt\", \"r\") as infile:\n",
    "        arr=(infile.readlines())\n",
    "    ran = random.choice(arr)\n",
    "    ran=ran.strip()\n",
    "    x=input(\"You come across \"+ran+\" do you take it? y/n\")\n",
    "    if x=='y':\n",
    "        with open(\"wizard_inventory.txt\", \"r\") as infile:\n",
    "            inv=infile.readlines()\n",
    "            if len(inv) > 3: \n",
    "                print(\"Your inventory is full!\")\n",
    "                return\n",
    "            else:\n",
    "                print(\"You take the item and add it to your inventory.\")\n",
    "                with open(\"wizard_inventory.txt\", \"a\") as outfile:\n",
    "                    outfile.write(ran + \"\\n\")\n",
    "\n",
    "def show():\n",
    "    with open(\"wizard_inventory.txt\", \"r\") as infile:\n",
    "        inv = infile.readlines() \n",
    "        if not inv:\n",
    "            print(\"Your inventory is empty.\")\n",
    "        else:\n",
    "            print(\"Your inventory:\")\n",
    "            for item in inv:\n",
    "                print(item.strip()) \n",
    "def drop():\n",
    "    with open(\"wizard_inventory.txt\", \"r\") as infile:\n",
    "        inv = infile.readlines() \n",
    "    num=int(input(\"Dropped Number:\"))\n",
    "    dropped = inv[num - 1].strip() \n",
    "    print(f\"You dropped \"+dropped)\n",
    "    inv.pop(num - 1)\n",
    "    with open(\"wizard_inventory.txt\", \"w\") as outfile:\n",
    "        for item in inv:\n",
    "            outfile.write(item) \n",
    "def command():\n",
    "    print(\"\")\n",
    "    x=input(\"Command: \")\n",
    "    print(\"\")\n",
    "    if x=='walk':\n",
    "        walk()\n",
    "    elif x==\"show\":\n",
    "        show()\n",
    "    elif x=='drop':\n",
    "        drop()\n",
    "    elif x=='exit':\n",
    "        return -1\n",
    "    else:\n",
    "        \n",
    "        print(\"Not a valid command, try again\")\n",
    "\n",
    "def main():\n",
    "    print(\"The wizard inventory program\")\n",
    "    cont=0\n",
    "    while cont !=-1:\n",
    "        cont=command()\n",
    "    print(\"Bye!\")\n",
    "if __name__ == \"__main__\":\n",
    "    main()"
   ]
  },
  {
   "cell_type": "markdown",
   "metadata": {},
   "source": [
    "## 7.3 Monthly Sales\n",
    "Create a program that reads the sales for 12 months from a file and calculates the total yearly sales as well as the average monthly sales. In addition, this program should let the user edit the sales for any month.\n",
    "\n",
    "### Console:\n",
    "```powershell\n",
    "Monthly Sales program\n",
    "\n",
    "COMMAND MENU\n",
    "monthly - View monthly sales \n",
    "yearly\t- View yearly sumary \n",
    "edit\t- Edit sales for a month \n",
    "exit\t- Exit program\n",
    "\n",
    "Command: monthly \n",
    "Jan - 14317\n",
    "Feb - 3903\n",
    "Mar - 1073\n",
    "Apr - 3463\n",
    "May - 2429\n",
    "Jun - 4324\n",
    "Jul - 9762\n",
    "Aug - 15578\n",
    "Sep - 2437\n",
    "Oct - 6735\n",
    "Nov - 88\n",
    "Dec - 2497\n",
    "\n",
    "Command: yearly\n",
    "Yearly total:\t66606\n",
    "Monthly average:\t5550.5\n",
    "\n",
    "Command: edit\n",
    "Three-letter Month: Nov Sales Amount: 8854\n",
    "Sales amount for Nov was modified.\n",
    "\n",
    "Command: exit Bye!\n",
    "```\n",
    "\n",
    "### Specifications:\n",
    "- Use the attached text file named CSV file named `monthly_sales.csv` that contains the month and sales data shown above.\n",
    "- For the edit command, display an error message if the user doesn’t enter a valid three-letter abbreviation for the month.\n",
    "- When the user edits the sales amount for a month, the data should be saved to the CSV file immediately. That way, no data is lost, even if the program crashes later.\n",
    "- Round the results of the monthly average to a maximum of 2 decimal digits."
   ]
  },
  {
   "cell_type": "code",
   "execution_count": null,
   "metadata": {},
   "outputs": [
    {
     "name": "stdout",
     "output_type": "stream",
     "text": [
      "Monthly Sales Program\n",
      "\n",
      "COMMAND MENU\n",
      "monthly - View monthly sales\n",
      "yearly\t- View yearly sumary\n",
      "edit\t- Edit sales for a month\n",
      "exit\t- Exit program\n",
      "\n"
     ]
    },
    {
     "name": "stdin",
     "output_type": "stream",
     "text": [
      "Command:  monthly\n"
     ]
    },
    {
     "name": "stdout",
     "output_type": "stream",
     "text": [
      "Jan - 12345\n",
      "Feb - 3903\n",
      "Mar - 1073\n",
      "Apr - 3463\n",
      "May - 2429\n",
      "Jun - 4324\n",
      "Jul - 9762\n",
      "Aug - 15578\n",
      "Sep - 2437\n",
      "Oct - 6735\n",
      "Nov - 67890\n",
      "Dec - 2497\n",
      "\n"
     ]
    },
    {
     "name": "stdin",
     "output_type": "stream",
     "text": [
      "Command:  edit\n"
     ]
    }
   ],
   "source": [
    "### CODE HERE ###\n",
    "import csv\n",
    "FILENAME='monthly_sales.csv'\n",
    "def setup():\n",
    "    print(\"Monthly Sales Program\")\n",
    "    print(\"\")\n",
    "    print(\"COMMAND MENU\")\n",
    "    print(\"monthly - View monthly sales\") \n",
    "    print(\"yearly\t- View yearly sumary\") \n",
    "    print(\"edit\t- Edit sales for a month\") \n",
    "    print(\"exit\t- Exit program\")\n",
    "def read_months():\n",
    "    months = []\n",
    "    with open(FILENAME, newline=\"\") as file:\n",
    "        reader = csv.reader(file)\n",
    "        for row in reader:\n",
    "            months.append(row)\n",
    "    return months\n",
    "def monthly(months):\n",
    "    for i in range(len(months)):\n",
    "        mon = months[i]\n",
    "        print(mon[0] +\" - \" + mon[1])\n",
    "def yearly(months):\n",
    "    x=0\n",
    "    for i in range(len(months)):\n",
    "        mon = months[i]\n",
    "        x+=float(mon[1])\n",
    "    print(\"Yearly total:\",x)\n",
    "    x=x/12\n",
    "    print(\"Monthly average:\",round(x,2))\n",
    "def edit(months):\n",
    "    y=-1\n",
    "    ans=input(\"Three letter month:\")\n",
    "    for i in range(len(months)):\n",
    "        mon = months[i]\n",
    "        if mon[0]==ans:\n",
    "            y=i\n",
    "            sales=int(input(\"Sales Amount: \"))\n",
    "            mon[1]=sales\n",
    "            with open(FILENAME, \"w\", newline=\"\") as file:\n",
    "                writer = csv.writer(file)\n",
    "                writer.writerows(months)\n",
    "            break\n",
    "            \n",
    "    if y==-1:\n",
    "       print(\"that was not a valid month input, try again!\")\n",
    "        \n",
    "def main():\n",
    "    ans=''\n",
    "    setup()\n",
    "    months=read_months()\n",
    "    while ans!='exit':\n",
    "        print(\"\")\n",
    "        ans=input(\"Command: \")\n",
    "        if ans=='monthly':\n",
    "            monthly(months)\n",
    "        elif ans=='yearly':\n",
    "            yearly(months)\n",
    "        elif ans=='edit':\n",
    "            edit(months)\n",
    "    print(\"Bye!\")\n",
    "if __name__ == \"__main__\":\n",
    "    main()"
   ]
  },
  {
   "cell_type": "code",
   "execution_count": null,
   "metadata": {},
   "outputs": [],
   "source": []
  },
  {
   "cell_type": "code",
   "execution_count": null,
   "metadata": {},
   "outputs": [],
   "source": []
  }
 ],
 "metadata": {
  "kernelspec": {
   "display_name": "Python [conda env:base] *",
   "language": "python",
   "name": "conda-base-py"
  },
  "language_info": {
   "codemirror_mode": {
    "name": "ipython",
    "version": 3
   },
   "file_extension": ".py",
   "mimetype": "text/x-python",
   "name": "python",
   "nbconvert_exporter": "python",
   "pygments_lexer": "ipython3",
   "version": "3.12.7"
  }
 },
 "nbformat": 4,
 "nbformat_minor": 4
}
